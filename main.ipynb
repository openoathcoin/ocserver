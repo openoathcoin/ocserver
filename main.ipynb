{
 "cells": [
  {
   "attachments": {},
   "cell_type": "markdown",
   "metadata": {},
   "source": [
    "# Run server"
   ]
  },
  {
   "cell_type": "code",
   "execution_count": 9,
   "metadata": {},
   "outputs": [],
   "source": [
    "#!/usr/bin/env python3\n",
    "\n",
    "# notes:\n",
    "  # don't name main script __main__.py or gunicorn won't find app in __main__\n",
    "  # set production server to listen at localhost:5000, localhost:8000 won't work\n",
    "\n",
    "import taipy as tp\n",
    "from utils.pages.root_page import root_page\n",
    "from utils.pages.account_page import account_page\n",
    "from utils.pages.pay_page import pay_page\n",
    "\n",
    "# flask_app = Flask(__name__)\n",
    "\n",
    "# @flask_app.route(\"/authorized\", methods=[\"GET\"])\n",
    "# def github_callback():\n",
    "#     \"\"\"Authenticate the user and displays their data.\"\"\"\n",
    "#     args = request.args\n",
    "#     request_token = args.get('code')\n",
    "\n",
    "#     CLIENT_ID = app.config['CLIENT_ID']\n",
    "#     CLIENT_SECRET = app.config['CLIENT_SECRET']\n",
    "#     access_token = get_access_token(CLIENT_ID, CLIENT_SECRET, request_token)\n",
    "\n",
    "#     user_data = get_user_data(access_token)\n",
    "#     return render_template('success.html', userData=user_data)\n",
    "\n",
    "# @flask_app.route(\"/login\")\n",
    "# def login():\n",
    "#     return \"The home page.\"\n",
    "\n",
    "# gui = tp.Gui(page=\"# Taipy application\", flask=flask_app)\n",
    "\n",
    "title = \"One More Coin: A currency based on trust and transparency\"  # text displayed on browser tab\n",
    "logo_file = \"images/logo.jpg\"  # icon displayed on browser tab\n",
    "\n",
    "pages = {\"/\": root_page,\n",
    "         \"account\": account_page,\n",
    "         \"pay\": pay_page}\n",
    "\n",
    "gui = tp.Gui(pages=pages)\n",
    "\n",
    "if __name__ == \"__main__\":\n",
    "  # for development\n",
    "  # run source env/bin/activate to activate virtual environment\n",
    "  # run python main.py in virtual environment\n",
    "  tp.run(gui, title=title, favicon=logo_file)  # listening at localhost:5000 by default\n",
    "else:\n",
    "  # for production\n",
    "  # run source env/bin/activate to activate virtual environment\n",
    "  # run gunicorn --bind localhost:5000 --worker-class gevent --worker-connections 1000 --workers $(nproc) --threads 1 main:app in virtual environment, adjust nproc and threads when more memory available\n",
    "  # run uwsgi --http localhost:5000 --http-websockets --master --gevent 1000 --processes $(nproc) --threads 1 --module main:app in virtual environment, adjust nproc and threads when more memory available\n",
    "  app = tp.run(gui, title=title, favicon=logo_file, run_server=False)\n"
   ]
  },
  {
   "attachments": {},
   "cell_type": "markdown",
   "metadata": {},
   "source": [
    "# Set up"
   ]
  },
  {
   "cell_type": "code",
   "execution_count": 2,
   "metadata": {},
   "outputs": [],
   "source": [
    "import taipy as tp\n",
    "\n",
    "# from github import Auth, Github\n",
    "# from flask import Flask\n",
    "# from taipy import Gui"
   ]
  },
  {
   "cell_type": "code",
   "execution_count": null,
   "metadata": {},
   "outputs": [],
   "source": [
    "import os\n",
    "print(os.environ.get(\"CLIENT_ID\"))\n",
    "print(os.environ.get(\"CLIENT_SECRET\"))"
   ]
  },
  {
   "cell_type": "code",
   "execution_count": 3,
   "metadata": {},
   "outputs": [],
   "source": [
    "g = Github()\n",
    "app = g.get_oauth_application(os.environ.get(\"CLIENT_ID\"), os.environ.get(\"CLIENT_SECRET\"))"
   ]
  },
  {
   "cell_type": "code",
   "execution_count": 8,
   "metadata": {},
   "outputs": [],
   "source": [
    "token = app.get_access_token(\"7a80e7a993cdc12fe6ce\")\n"
   ]
  },
  {
   "attachments": {},
   "cell_type": "markdown",
   "metadata": {},
   "source": [
    "# Retrieve transaction data"
   ]
  },
  {
   "cell_type": "code",
   "execution_count": 12,
   "metadata": {},
   "outputs": [],
   "source": [
    "auth = app.get_app_user_auth(token)\n",
    "g = Github(auth=auth)"
   ]
  },
  {
   "cell_type": "code",
   "execution_count": 15,
   "metadata": {},
   "outputs": [],
   "source": [
    "user = g.get_user()"
   ]
  },
  {
   "cell_type": "code",
   "execution_count": 20,
   "metadata": {},
   "outputs": [],
   "source": [
    "user.email"
   ]
  },
  {
   "cell_type": "code",
   "execution_count": null,
   "metadata": {},
   "outputs": [],
   "source": [
    "token.refresh_token"
   ]
  },
  {
   "cell_type": "code",
   "execution_count": 1,
   "metadata": {},
   "outputs": [
    {
     "name": "stdout",
     "output_type": "stream",
     "text": [
      "[2023-06-29 11:17:40][Taipy][INFO] Running in 'single_client' mode in notebook environment\n",
      "[2023-06-29 11:17:41][Taipy][INFO]  * Server starting on http://127.0.0.1:5000\n"
     ]
    }
   ],
   "source": [
    "from taipy import Gui\n",
    "from utils.pages import account_page, root_page\n",
    "\n",
    "pages = {\"/\":root_page,\n",
    "         \"login\":account_page}\n",
    "\n",
    "Gui(pages=pages).run()\n"
   ]
  },
  {
   "cell_type": "code",
   "execution_count": null,
   "metadata": {},
   "outputs": [],
   "source": [
    "pages = {\n",
    "  \"<|toggle|theme|>\\n<center>\\n<|navbar|>\\n</center>\"\n",
    "}"
   ]
  },
  {
   "cell_type": "code",
   "execution_count": 2,
   "metadata": {},
   "outputs": [
    {
     "name": "stdout",
     "output_type": "stream",
     "text": [
      "[2023-06-30 05:18:50][Taipy][INFO] Running in 'single_client' mode in notebook environment\n",
      "[2023-06-30 05:18:50][Taipy][INFO]  * Server starting on http://127.0.0.1:5000\n"
     ]
    }
   ],
   "source": [
    "from taipy.gui import Gui, notify\n",
    "\n",
    "text = \"Original text\"\n",
    "\n",
    "# Definition of the page\n",
    "page = \"\"\"\n",
    "# Getting started with Taipy GUI\n",
    "\n",
    "My text: <|{text}|>\n",
    "\n",
    "<|{text}|input|password=True|>\n",
    "\n",
    "<|Run local|button|on_action=on_button_action|>\n",
    "\"\"\"\n",
    "\n",
    "def on_button_action(state):\n",
    "    notify(state, 'info', f'The text is: {state.text}')\n",
    "    state.text = \"Button Pressed\"\n",
    "\n",
    "def on_change(state, var_name, var_value):\n",
    "    if var_name == \"text\" and var_value == \"Reset\":\n",
    "        state.text = \"\"\n",
    "        return\n",
    "\n",
    "\n",
    "Gui(page).run()"
   ]
  },
  {
   "cell_type": "code",
   "execution_count": 1,
   "metadata": {},
   "outputs": [],
   "source": [
    "from taipy import Gui\n",
    "from taipy.gui import Html\n",
    "\n",
    "text = \"Original text\"\n",
    "\n",
    "page = \"\"\"\n",
    "# Getting started with Taipy GUI\n",
    "\n",
    "My text: <|{text}|>\n",
    "\n",
    "<|{text}|input|password=True|>\n",
    "\"\"\"\n",
    "html_page = Html(\"\"\"\n",
    "<h1>Page title</h1>\n",
    "\n",
    "Any <a href=\"https://en.wikipedia.org/wiki/HTML\"><i>HTML</i></a>\n",
    "content can be used here.\n",
    "<div>\n",
    "    <label for=\"pass\">Password (8 characters minimum):</label>\n",
    "    <input type=\"password\" id=\"pass\" name=\"password\" minlength=\"8\" required>\n",
    "</div>\n",
    "\"\"\")"
   ]
  },
  {
   "cell_type": "code",
   "execution_count": 2,
   "metadata": {},
   "outputs": [
    {
     "name": "stdout",
     "output_type": "stream",
     "text": [
      "[2023-06-29 10:04:23][Taipy][INFO] Running in 'single_client' mode in notebook environment\n",
      "[2023-06-29 10:04:24][Taipy][INFO]  * Server starting on http://127.0.0.1:5000\n"
     ]
    }
   ],
   "source": [
    "Gui(page).run()"
   ]
  },
  {
   "cell_type": "code",
   "execution_count": null,
   "metadata": {},
   "outputs": [],
   "source": [
    "from github import Auth, Github\n",
    "from taipy import Config, Scope\n",
    "\n",
    "\n",
    "def login(username, password):\n",
    "  auth = Auth.Login(username, password)\n",
    "  \n",
    "  return Github(auth=auth)\n",
    "\n",
    "username_config = Config.configure_in_memory_data_node(\"username\", scope=Scope.GLOBAL)\n",
    "password_config = Config.configure_in_memory_data_node(\"password\", scope=Scope.GLOBAL)\n",
    "account_config = Config.configure_in_memory_data_node(\"account\", scope=Scope.GLOBAL)\n",
    "\n",
    "login_config = Config.configure_task(\"login\", login, input=[username_config, password_config],\n",
    "                                     output=account_config, skippable=True)\n",
    "\n"
   ]
  },
  {
   "cell_type": "code",
   "execution_count": 1,
   "metadata": {},
   "outputs": [
    {
     "name": "stdout",
     "output_type": "stream",
     "text": [
      "[2023-06-28 08:54:54][Taipy][INFO] Running in 'single_client' mode in notebook environment\n",
      "[2023-06-28 08:54:54][Taipy][INFO]  * Server starting on http://127.0.0.1:5000\n"
     ]
    },
    {
     "name": "stderr",
     "output_type": "stream",
     "text": [
      "WARNING:root:\u001b[1;31m\n",
      "--- 1 warning(s) were found for page 'page2' in variable 'page2_md' ---\n",
      " - Warning 1: Cannot evaluate expression 'session['request_token']':\n",
      "'request_token'\n",
      "------------------------------------------------------------------------\u001b[0m\n",
      "\n",
      "Invalid session vTsBbz3KlcDR3jKcAAAE (further occurrences of this error will be logged with level INFO)\n",
      "ERROR:engineio.server:Invalid session vTsBbz3KlcDR3jKcAAAE (further occurrences of this error will be logged with level INFO)\n"
     ]
    }
   ],
   "source": [
    "from flask import Flask, redirect, render_template, url_for, request, session\n",
    "from taipy import Gui\n",
    "\n",
    "flask_app = Flask(__name__)\n",
    "\n",
    "name = \"54\"\n",
    "\n",
    "@flask_app.route(\"/authorized\", methods=[\"GET\"])\n",
    "def authorized():\n",
    "    \"\"\"Authenticate the user and displays their data.\"\"\"\n",
    "    # global name\n",
    "\n",
    "    args = request.args\n",
    "    request_token = args.get('code')\n",
    "    session[\"request_token\"] = request_token\n",
    "    # name = request_token\n",
    "\n",
    "    return redirect(\"http://onemorecoin.ddns.net/page2\")\n",
    "\n",
    "# gui = Gui(page=\"# <|{name}|> Taipy application\", flask=flask_app)\n",
    "# Add a navbar to switch from one page to the other\n",
    "root_md = \"\"\"\n",
    "<|navbar|>\n",
    "# Multi-page application\n",
    "\"\"\"\n",
    "page1_md = \"## This is page 1\"\n",
    "page2_md = \"## This <|{session['request_token']}|> is page 2\"\n",
    "\n",
    "pages = {\n",
    "    \"/\": root_md,\n",
    "    \"page1\": page1_md,\n",
    "    \"page2\": page2_md\n",
    "}\n",
    "Gui(pages=pages, flask=flask_app).run()\n"
   ]
  },
  {
   "cell_type": "code",
   "execution_count": 1,
   "metadata": {},
   "outputs": [
    {
     "name": "stdout",
     "output_type": "stream",
     "text": [
      "[2023-06-27 08:33:33][Taipy][INFO] Running in 'single_client' mode in notebook environment\n",
      "[2023-06-27 08:33:33][Taipy][INFO]  * Server starting on http://127.0.0.1:5000\n"
     ]
    }
   ],
   "source": [
    "from taipy import Gui\n",
    "from flask import render_template, request\n",
    "\n",
    "# args = request.args\n",
    "# request_token = args.get('code')\n",
    "\n",
    "\n",
    "# Add a navbar to switch from one page to the other\n",
    "root_md = \"\"\"\n",
    "<|navbar|>\n",
    "# Multi-page application\n",
    "\"\"\"\n",
    "page1_md = \"## This is <|{request.args.get('code')}|> page 1\"\n",
    "page2_md = \"## This is page 2\"\n",
    "\n",
    "pages = {\n",
    "    \"/\": root_md,\n",
    "    \"authorized\": page1_md,\n",
    "    # \"page2\": page2_md\n",
    "}\n",
    "Gui(pages=pages).run()\n"
   ]
  },
  {
   "cell_type": "code",
   "execution_count": 22,
   "metadata": {},
   "outputs": [
    {
     "name": "stdout",
     "output_type": "stream",
     "text": [
      "[2023-06-25 11:31:40,835][Taipy][INFO] Running in 'single_client' mode in notebook environment\n",
      "[2023-06-25 11:31:40,992][Taipy][INFO]  * Server starting on http://127.0.0.1:5000\n"
     ]
    }
   ],
   "source": [
    "flask_app = Flask(__name__)\n",
    "\n",
    "@flask_app.route(\"/home\")\n",
    "def home_page():\n",
    "    return \"The home page.\"\n",
    "\n",
    "gui = Gui(page=\"# Taipy application\", flask=flask_app)\n",
    "gui.run()"
   ]
  },
  {
   "cell_type": "code",
   "execution_count": 2,
   "metadata": {},
   "outputs": [
    {
     "name": "stdout",
     "output_type": "stream",
     "text": [
      "[2023-06-14 12:48:40,991][Taipy][INFO] Running in 'single_client' mode in notebook environment\n",
      "[2023-06-14 12:48:41,133][Taipy][INFO]  * Server starting on http://127.0.0.1:5000\n"
     ]
    }
   ],
   "source": [
    "# Definition of the page\n",
    "property_chart = {\"type\":\"bar\",\n",
    "                  \"x\":\"Text\",\n",
    "                  \"y[1]\":\"Score Pos\",\n",
    "                  \"y[2]\":\"Score Neu\",\n",
    "                  \"y[3]\":\"Score Neg\",\n",
    "                  \"y[4]\":\"Overall\",\n",
    "                  \"color[1]\":\"green\",\n",
    "                  \"color[2]\":\"grey\",\n",
    "                  \"color[3]\":\"red\",\n",
    "                  \"type[4]\":\"line\"\n",
    "                 }\n",
    "\n",
    "page = \"\"\"\n",
    "...\n",
    "<|{dataframe}|table|>\n",
    "\n",
    "<|{dataframe}|chart|properties={property_chart}|>\n",
    "...\n",
    "\"\"\"\n",
    "\n",
    "dataframe = pd.DataFrame({\"Text\":['Test', 'Other', 'Love'],\n",
    "                          \"Score Pos\":[1, 1, 4],\n",
    "                          \"Score Neu\":[2, 3, 1],\n",
    "                          \"Score Neg\":[1, 2, 0],\n",
    "                          \"Overall\":[0, -1, 4]})\n",
    "\n",
    "Gui(page).run(port=5000)"
   ]
  },
  {
   "cell_type": "code",
   "execution_count": 2,
   "metadata": {},
   "outputs": [
    {
     "name": "stdout",
     "output_type": "stream",
     "text": [
      "[2023-06-14 11:09:07,197][Taipy][INFO] Running in 'single_client' mode in notebook environment\n",
      "[2023-06-14 11:09:07,325][Taipy][INFO]  * Server starting on http://127.0.0.1:5000\n"
     ]
    }
   ],
   "source": [
    "Gui(page=\"# Getting started with *Taipy*\").run(port=5000)"
   ]
  },
  {
   "cell_type": "code",
   "execution_count": 8,
   "metadata": {},
   "outputs": [],
   "source": [
    "app = Flask(__name__)\n",
    "\n",
    "a = []\n",
    "\n",
    "@app.route('/', methods=['POST'])\n",
    "def result():\n",
    "    a.append(request.data)\n",
    "    a.append(request.json)\n",
    "    a.append(request.get_json(force=True))\n",
    "    print(request.data)  # raw data\n",
    "    print(request.json)  # json (if content-type of application/json is sent with the request)\n",
    "    print(request.get_json(force=True))  # json (if content-type of application/json is not sent)"
   ]
  },
  {
   "cell_type": "code",
   "execution_count": null,
   "metadata": {},
   "outputs": [],
   "source": [
    "a[1]"
   ]
  },
  {
   "cell_type": "code",
   "execution_count": null,
   "metadata": {},
   "outputs": [],
   "source": []
  }
 ],
 "metadata": {
  "kernelspec": {
   "display_name": "env",
   "language": "python",
   "name": "python3"
  },
  "language_info": {
   "codemirror_mode": {
    "name": "ipython",
    "version": 3
   },
   "file_extension": ".py",
   "mimetype": "text/x-python",
   "name": "python",
   "nbconvert_exporter": "python",
   "pygments_lexer": "ipython3",
   "version": "3.9.16"
  },
  "orig_nbformat": 4
 },
 "nbformat": 4,
 "nbformat_minor": 2
}
